{
 "cells": [
  {
   "cell_type": "markdown",
   "metadata": {
    "tags": []
   },
   "source": [
    "# Going Green Repo"
   ]
  },
  {
   "cell_type": "markdown",
   "metadata": {},
   "source": [
    "All the data can be found [here](https://opendata.mass-cannabis-control.com/) @ the **CCC Open Data Portal**"
   ]
  },
  {
   "cell_type": "markdown",
   "metadata": {},
   "source": [
    "In part, the mission of the Cannabis Control Commission (Commission) is to honor the will of the voters of Massachusetts by safely, equitably, and effectively implementing and administering the laws enabling access to medical and adult-use marijuana in the Commonwealth. Our mission is guided by operating principles to conduct all our processes openly and transparently, engage in regular two-way communication with all concerned constituents, and publicly measure our performance to effectuate a world-class agency."
   ]
  },
  {
   "cell_type": "markdown",
   "metadata": {},
   "source": [
    "Our Open Data Platform will support our mission and operating principles by allowing the Commission to measure its effectiveness at regulating the adult-use industry and Medical Use of Marijuana Program, ensuring public health and safety, implementing our equity provisions, and promoting full participation by small and large businesses."
   ]
  },
  {
   "cell_type": "markdown",
   "metadata": {},
   "source": [
    "#### References & Documentation:\n",
    "\n",
    "- [SODA Developers](https://dev.socrata.com/)\n",
    "- [Example](https://dev.socrata.com/foundry/opendata.mass-cannabis-control.com/hmwt-yiqy)"
   ]
  },
  {
   "cell_type": "markdown",
   "metadata": {},
   "source": [
    "-------"
   ]
  },
  {
   "cell_type": "markdown",
   "metadata": {},
   "source": [
    "## ETL Process"
   ]
  },
  {
   "cell_type": "markdown",
   "metadata": {},
   "source": [
    "### Modules Needed\n",
    "\n",
    "**Check requirements.txt for more info** "
   ]
  },
  {
   "cell_type": "code",
   "execution_count": 1,
   "metadata": {},
   "outputs": [],
   "source": [
    "# Data wrangling and manipulation\n",
    "import pandas as pd\n",
    "import numpy as np\n",
    "\n",
    "# API \n",
    "from sodapy import Socrata"
   ]
  },
  {
   "cell_type": "markdown",
   "metadata": {},
   "source": [
    "### Web Scraping CCC Data Catalog"
   ]
  },
  {
   "cell_type": "code",
   "execution_count": 4,
   "metadata": {},
   "outputs": [],
   "source": [
    "# import helper function \n",
    "from helper_functions import get_endpoints"
   ]
  },
  {
   "cell_type": "code",
   "execution_count": 5,
   "metadata": {},
   "outputs": [],
   "source": [
    "api_links = get_endpoints('https://opendata.mass-cannabis-control.com/browse')"
   ]
  },
  {
   "cell_type": "markdown",
   "metadata": {},
   "source": [
    "---"
   ]
  },
  {
   "cell_type": "markdown",
   "metadata": {
    "tags": []
   },
   "source": [
    "### Data Extraction Process"
   ]
  },
  {
   "cell_type": "code",
   "execution_count": 6,
   "metadata": {},
   "outputs": [],
   "source": [
    "# import helper function\n",
    "from helper_functions import get_dataset_name"
   ]
  },
  {
   "cell_type": "code",
   "execution_count": 7,
   "metadata": {},
   "outputs": [
    {
     "name": "stderr",
     "output_type": "stream",
     "text": [
      "WARNING:root:Requests made without an app_token will be subject to strict throttling limits.\n"
     ]
    }
   ],
   "source": [
    "api_table = get_dataset_name(api_links)"
   ]
  },
  {
   "cell_type": "code",
   "execution_count": 8,
   "metadata": {},
   "outputs": [
    {
     "data": {
      "text/html": [
       "<div>\n",
       "<style scoped>\n",
       "    .dataframe tbody tr th:only-of-type {\n",
       "        vertical-align: middle;\n",
       "    }\n",
       "\n",
       "    .dataframe tbody tr th {\n",
       "        vertical-align: top;\n",
       "    }\n",
       "\n",
       "    .dataframe thead th {\n",
       "        text-align: right;\n",
       "    }\n",
       "</style>\n",
       "<table border=\"1\" class=\"dataframe\">\n",
       "  <thead>\n",
       "    <tr style=\"text-align: right;\">\n",
       "      <th></th>\n",
       "      <th>api_endpoints</th>\n",
       "      <th>Name</th>\n",
       "    </tr>\n",
       "  </thead>\n",
       "  <tbody>\n",
       "    <tr>\n",
       "      <th>0</th>\n",
       "      <td>hmwt-yiqy</td>\n",
       "      <td>Public View based on Marijuana Establishment License and Applications - Approved</td>\n",
       "    </tr>\n",
       "    <tr>\n",
       "      <th>1</th>\n",
       "      <td>piib-tj3f</td>\n",
       "      <td>Public View based on Marijuana Establishment License and Applications - Pending</td>\n",
       "    </tr>\n",
       "    <tr>\n",
       "      <th>2</th>\n",
       "      <td>xwf2-j7g9</td>\n",
       "      <td>Adult-Use Marijuana Retail Sales by Date and Product Type</td>\n",
       "    </tr>\n",
       "    <tr>\n",
       "      <th>3</th>\n",
       "      <td>dt9b-i6ds</td>\n",
       "      <td>Marijuana Retail and Delivery Weekly Sales Report Total</td>\n",
       "    </tr>\n",
       "    <tr>\n",
       "      <th>4</th>\n",
       "      <td>j3q7-3usu</td>\n",
       "      <td>Public View Marijuana Establishment Facility Activity Daily Totals</td>\n",
       "    </tr>\n",
       "    <tr>\n",
       "      <th>5</th>\n",
       "      <td>pebi-jpc4</td>\n",
       "      <td>Adult-use Marijuana Establishment Applications Under Review</td>\n",
       "    </tr>\n",
       "    <tr>\n",
       "      <th>6</th>\n",
       "      <td>n6qz-us6r</td>\n",
       "      <td>Total Adult-use Marijuana Establishment License Applications Submitted</td>\n",
       "    </tr>\n",
       "    <tr>\n",
       "      <th>7</th>\n",
       "      <td>87rp-xn9v</td>\n",
       "      <td>ITD Adult-use Retail and Delivery Sales Report Data</td>\n",
       "    </tr>\n",
       "    <tr>\n",
       "      <th>8</th>\n",
       "      <td>txdz-a4mr</td>\n",
       "      <td>Public View based on Marijuana Establishment Facility Statistics</td>\n",
       "    </tr>\n",
       "    <tr>\n",
       "      <th>9</th>\n",
       "      <td>5dkg-e39p</td>\n",
       "      <td>Marijuana Establishment License and Application DBE Totals</td>\n",
       "    </tr>\n",
       "    <tr>\n",
       "      <th>10</th>\n",
       "      <td>hw8d-yqhk</td>\n",
       "      <td>Public View based on Marijuana Establishment Person(s) with Authority</td>\n",
       "    </tr>\n",
       "    <tr>\n",
       "      <th>11</th>\n",
       "      <td>pt2c-wb44</td>\n",
       "      <td>Marijuana Establishment Agent Race / Ethnicity Totals</td>\n",
       "    </tr>\n",
       "    <tr>\n",
       "      <th>12</th>\n",
       "      <td>w3bm-kg67</td>\n",
       "      <td>Public View based on Marijuana Establishment Business Interests</td>\n",
       "    </tr>\n",
       "    <tr>\n",
       "      <th>13</th>\n",
       "      <td>hhjg-atjk</td>\n",
       "      <td>Active Marijuana Establishment Agents Gender Totals</td>\n",
       "    </tr>\n",
       "    <tr>\n",
       "      <th>14</th>\n",
       "      <td>thi3-heiz</td>\n",
       "      <td>Marijuana Establishment License Applications: 1 Packet Submitted</td>\n",
       "    </tr>\n",
       "    <tr>\n",
       "      <th>15</th>\n",
       "      <td>k9s9-jfxp</td>\n",
       "      <td>Public View based on Marijuana Establishment License and Application DBE</td>\n",
       "    </tr>\n",
       "    <tr>\n",
       "      <th>16</th>\n",
       "      <td>78u8-w6tg</td>\n",
       "      <td>Public View based on Marijuana Establishment Entities with Authority</td>\n",
       "    </tr>\n",
       "    <tr>\n",
       "      <th>17</th>\n",
       "      <td>hk8h-jxfp</td>\n",
       "      <td>Massachusetts County Subdivisions</td>\n",
       "    </tr>\n",
       "    <tr>\n",
       "      <th>18</th>\n",
       "      <td>hhfx-9f57</td>\n",
       "      <td>Public View based on Active Marijuana Establishment Agents</td>\n",
       "    </tr>\n",
       "    <tr>\n",
       "      <th>19</th>\n",
       "      <td>g5mj-5pg3</td>\n",
       "      <td>Public View based on Medical Treatment Centers - Facility Statistics</td>\n",
       "    </tr>\n",
       "    <tr>\n",
       "      <th>20</th>\n",
       "      <td>dnkz-bnwi</td>\n",
       "      <td>View based on Public View based on Marijuana Establishment Licenses and Applications - Approved</td>\n",
       "    </tr>\n",
       "    <tr>\n",
       "      <th>21</th>\n",
       "      <td>bcks-b4x2</td>\n",
       "      <td>Public View based on Active Marijuana Establishment Agents - Race and Ethnicity</td>\n",
       "    </tr>\n",
       "    <tr>\n",
       "      <th>22</th>\n",
       "      <td>nznq-9p3m</td>\n",
       "      <td>Massachusetts Census Tracts</td>\n",
       "    </tr>\n",
       "    <tr>\n",
       "      <th>23</th>\n",
       "      <td>rqtv-uenj</td>\n",
       "      <td>Average Monthly Price per Ounce for Adult-Use Cannabis</td>\n",
       "    </tr>\n",
       "    <tr>\n",
       "      <th>24</th>\n",
       "      <td>msr7-5p42</td>\n",
       "      <td>View based on Public View based on License and Applications - Approved</td>\n",
       "    </tr>\n",
       "  </tbody>\n",
       "</table>\n",
       "</div>"
      ],
      "text/plain": [
       "   api_endpoints  \\\n",
       "0      hmwt-yiqy   \n",
       "1      piib-tj3f   \n",
       "2      xwf2-j7g9   \n",
       "3      dt9b-i6ds   \n",
       "4      j3q7-3usu   \n",
       "5      pebi-jpc4   \n",
       "6      n6qz-us6r   \n",
       "7      87rp-xn9v   \n",
       "8      txdz-a4mr   \n",
       "9      5dkg-e39p   \n",
       "10     hw8d-yqhk   \n",
       "11     pt2c-wb44   \n",
       "12     w3bm-kg67   \n",
       "13     hhjg-atjk   \n",
       "14     thi3-heiz   \n",
       "15     k9s9-jfxp   \n",
       "16     78u8-w6tg   \n",
       "17     hk8h-jxfp   \n",
       "18     hhfx-9f57   \n",
       "19     g5mj-5pg3   \n",
       "20     dnkz-bnwi   \n",
       "21     bcks-b4x2   \n",
       "22     nznq-9p3m   \n",
       "23     rqtv-uenj   \n",
       "24     msr7-5p42   \n",
       "\n",
       "                                                                                               Name  \n",
       "0                  Public View based on Marijuana Establishment License and Applications - Approved  \n",
       "1                   Public View based on Marijuana Establishment License and Applications - Pending  \n",
       "2                                         Adult-Use Marijuana Retail Sales by Date and Product Type  \n",
       "3                                           Marijuana Retail and Delivery Weekly Sales Report Total  \n",
       "4                                Public View Marijuana Establishment Facility Activity Daily Totals  \n",
       "5                                       Adult-use Marijuana Establishment Applications Under Review  \n",
       "6                            Total Adult-use Marijuana Establishment License Applications Submitted  \n",
       "7                                               ITD Adult-use Retail and Delivery Sales Report Data  \n",
       "8                                  Public View based on Marijuana Establishment Facility Statistics  \n",
       "9                                        Marijuana Establishment License and Application DBE Totals  \n",
       "10                            Public View based on Marijuana Establishment Person(s) with Authority  \n",
       "11                                            Marijuana Establishment Agent Race / Ethnicity Totals  \n",
       "12                                  Public View based on Marijuana Establishment Business Interests  \n",
       "13                                              Active Marijuana Establishment Agents Gender Totals  \n",
       "14                                 Marijuana Establishment License Applications: 1 Packet Submitted  \n",
       "15                         Public View based on Marijuana Establishment License and Application DBE  \n",
       "16                             Public View based on Marijuana Establishment Entities with Authority  \n",
       "17                                                                Massachusetts County Subdivisions  \n",
       "18                                       Public View based on Active Marijuana Establishment Agents  \n",
       "19                             Public View based on Medical Treatment Centers - Facility Statistics  \n",
       "20  View based on Public View based on Marijuana Establishment Licenses and Applications - Approved  \n",
       "21                  Public View based on Active Marijuana Establishment Agents - Race and Ethnicity  \n",
       "22                                                                      Massachusetts Census Tracts  \n",
       "23                                           Average Monthly Price per Ounce for Adult-Use Cannabis  \n",
       "24                           View based on Public View based on License and Applications - Approved  "
      ]
     },
     "execution_count": 8,
     "metadata": {},
     "output_type": "execute_result"
    }
   ],
   "source": [
    "api_table"
   ]
  },
  {
   "cell_type": "code",
   "execution_count": 9,
   "metadata": {},
   "outputs": [],
   "source": [
    "from helper_functions import choose_dataset"
   ]
  },
  {
   "cell_type": "code",
   "execution_count": 10,
   "metadata": {},
   "outputs": [
    {
     "name": "stderr",
     "output_type": "stream",
     "text": [
      "WARNING:root:Requests made without an app_token will be subject to strict throttling limits.\n"
     ]
    },
    {
     "name": "stdin",
     "output_type": "stream",
     "text": [
      "Which dataset are you interested in viewing?\n",
      "Please choose an index (i.e. row number) from the table above:  3\n"
     ]
    }
   ],
   "source": [
    "results = choose_dataset(api_table, limit = 2000)"
   ]
  },
  {
   "cell_type": "code",
   "execution_count": 11,
   "metadata": {},
   "outputs": [
    {
     "data": {
      "text/html": [
       "<div>\n",
       "<style scoped>\n",
       "    .dataframe tbody tr th:only-of-type {\n",
       "        vertical-align: middle;\n",
       "    }\n",
       "\n",
       "    .dataframe tbody tr th {\n",
       "        vertical-align: top;\n",
       "    }\n",
       "\n",
       "    .dataframe thead th {\n",
       "        text-align: right;\n",
       "    }\n",
       "</style>\n",
       "<table border=\"1\" class=\"dataframe\">\n",
       "  <thead>\n",
       "    <tr style=\"text-align: right;\">\n",
       "      <th></th>\n",
       "      <th>sale_period</th>\n",
       "      <th>gross_sales</th>\n",
       "      <th>total_units</th>\n",
       "      <th>average_spent</th>\n",
       "    </tr>\n",
       "  </thead>\n",
       "  <tbody>\n",
       "    <tr>\n",
       "      <th>0</th>\n",
       "      <td>12/6/2021</td>\n",
       "      <td>2978083.51</td>\n",
       "      <td>74904</td>\n",
       "      <td>39.76</td>\n",
       "    </tr>\n",
       "    <tr>\n",
       "      <th>1</th>\n",
       "      <td>12/7/2021</td>\n",
       "      <td>3002444.97</td>\n",
       "      <td>76152</td>\n",
       "      <td>39.43</td>\n",
       "    </tr>\n",
       "    <tr>\n",
       "      <th>2</th>\n",
       "      <td>12/8/2021</td>\n",
       "      <td>4308488.42</td>\n",
       "      <td>108824</td>\n",
       "      <td>39.59</td>\n",
       "    </tr>\n",
       "    <tr>\n",
       "      <th>3</th>\n",
       "      <td>12/9/2021</td>\n",
       "      <td>3594346.65</td>\n",
       "      <td>91278</td>\n",
       "      <td>39.38</td>\n",
       "    </tr>\n",
       "    <tr>\n",
       "      <th>4</th>\n",
       "      <td>12/10/2021</td>\n",
       "      <td>4867765.13</td>\n",
       "      <td>123179</td>\n",
       "      <td>39.52</td>\n",
       "    </tr>\n",
       "  </tbody>\n",
       "</table>\n",
       "</div>"
      ],
      "text/plain": [
       "  sale_period gross_sales total_units average_spent\n",
       "0   12/6/2021  2978083.51       74904         39.76\n",
       "1   12/7/2021  3002444.97       76152         39.43\n",
       "2   12/8/2021  4308488.42      108824         39.59\n",
       "3   12/9/2021  3594346.65       91278         39.38\n",
       "4  12/10/2021  4867765.13      123179         39.52"
      ]
     },
     "execution_count": 11,
     "metadata": {},
     "output_type": "execute_result"
    }
   ],
   "source": [
    "# display the first five rows\n",
    "results.head()\n",
    "\n",
    "# If you would to see the entire data set \n",
    "# uncomment this section result below\n",
    "\n",
    "# results "
   ]
  },
  {
   "cell_type": "markdown",
   "metadata": {},
   "source": [
    "---"
   ]
  },
  {
   "cell_type": "markdown",
   "metadata": {},
   "source": [
    "### Transformation Process"
   ]
  },
  {
   "cell_type": "code",
   "execution_count": 12,
   "metadata": {},
   "outputs": [],
   "source": [
    "from helper_functions import convert_to_csv"
   ]
  },
  {
   "cell_type": "code",
   "execution_count": 13,
   "metadata": {
    "tags": []
   },
   "outputs": [
    {
     "name": "stdin",
     "output_type": "stream",
     "text": [
      "What would you like to name your file?:   output\n"
     ]
    }
   ],
   "source": [
    "# Convert results to csv file \n",
    "convert_to_csv(results)"
   ]
  },
  {
   "cell_type": "markdown",
   "metadata": {},
   "source": [
    "----"
   ]
  },
  {
   "cell_type": "markdown",
   "metadata": {},
   "source": [
    "### Now go have some fun slicing and dicing!"
   ]
  }
 ],
 "metadata": {
  "kernelspec": {
   "display_name": "Python 3 (ipykernel)",
   "language": "python",
   "name": "python3"
  },
  "language_info": {
   "codemirror_mode": {
    "name": "ipython",
    "version": 3
   },
   "file_extension": ".py",
   "mimetype": "text/x-python",
   "name": "python",
   "nbconvert_exporter": "python",
   "pygments_lexer": "ipython3",
   "version": "3.9.1"
  }
 },
 "nbformat": 4,
 "nbformat_minor": 4
}
