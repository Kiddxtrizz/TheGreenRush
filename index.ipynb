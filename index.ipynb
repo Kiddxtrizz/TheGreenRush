{
 "cells": [
  {
   "cell_type": "markdown",
   "metadata": {
    "tags": []
   },
   "source": [
    "# Going Green Repo"
   ]
  },
  {
   "cell_type": "markdown",
   "metadata": {},
   "source": [
    "All the data can be found [here](https://opendata.mass-cannabis-control.com/) @ the **CCC Open Data Portal**"
   ]
  },
  {
   "cell_type": "markdown",
   "metadata": {},
   "source": [
    "In part, the mission of the Cannabis Control Commission (Commission) is to honor the will of the voters of Massachusetts by safely, equitably, and effectively implementing and administering the laws enabling access to medical and adult-use marijuana in the Commonwealth. Our mission is guided by operating principles to conduct all our processes openly and transparently, engage in regular two-way communication with all concerned constituents, and publicly measure our performance to effectuate a world-class agency."
   ]
  },
  {
   "cell_type": "markdown",
   "metadata": {},
   "source": [
    "Our Open Data Platform will support our mission and operating principles by allowing the Commission to measure its effectiveness at regulating the adult-use industry and Medical Use of Marijuana Program, ensuring public health and safety, implementing our equity provisions, and promoting full participation by small and large businesses."
   ]
  },
  {
   "cell_type": "markdown",
   "metadata": {
    "tags": []
   },
   "source": [
    "#### References & Documentation:\n",
    "\n",
    "- [SODA Developers](https://dev.socrata.com/)\n",
    "- [Example](https://dev.socrata.com/foundry/opendata.mass-cannabis-control.com/hmwt-yiqy)"
   ]
  },
  {
   "cell_type": "markdown",
   "metadata": {},
   "source": [
    "**Getting Started**\n",
    "* Select the `Run` drop-down menu option in the ribbon box \n",
    "* Of the options available in the drop-down menu; select `Restart Kernels and run all cells`\n",
    "* The notebook should restart and begin to run all the cells below\n",
    "    - you will know this is working if a `[number]` appears on the left-hand side of the cell \n",
    "\n",
    "**User Interaction** \n",
    "\n",
    "To allow for some flexibility I have allowed for user input \n",
    "   - During the data extraction portion a prompt will appear asking for your feedback \n",
    "       - i.e. `Which dataset are you interested in viewing? Please choose an index (i.e. row number) from the table above:`\n",
    "       - Please choose a number from the list generated in the notebook \n",
    "       \n",
    "   - Final Steps: Load & Transformation\n",
    "       - I have created a converter that will transform the table and output a csv file \n",
    "        -You need to choose a name for the file\n",
    "         * a file will be output to the console for your review"
   ]
  },
  {
   "cell_type": "markdown",
   "metadata": {},
   "source": [
    "-------"
   ]
  },
  {
   "cell_type": "markdown",
   "metadata": {
    "tags": []
   },
   "source": [
    "### Modules Needed"
   ]
  },
  {
   "cell_type": "code",
   "execution_count": null,
   "metadata": {},
   "outputs": [],
   "source": [
    "# Data wrangling and manipulation\n",
    "import pandas as pd\n",
    "import numpy as np\n",
    "\n",
    "# API \n",
    "from sodapy import Socrata"
   ]
  },
  {
   "cell_type": "markdown",
   "metadata": {},
   "source": [
    "### Web Scraping CCC Data Catalog"
   ]
  },
  {
   "cell_type": "code",
   "execution_count": null,
   "metadata": {},
   "outputs": [],
   "source": [
    "# import helper function \n",
    "from helper_functions import get_endpoints"
   ]
  },
  {
   "cell_type": "code",
   "execution_count": null,
   "metadata": {},
   "outputs": [],
   "source": [
    "api_links = get_endpoints('https://opendata.mass-cannabis-control.com/browse')"
   ]
  },
  {
   "cell_type": "markdown",
   "metadata": {},
   "source": [
    "---"
   ]
  },
  {
   "cell_type": "markdown",
   "metadata": {
    "tags": []
   },
   "source": [
    "### Data Extraction Process"
   ]
  },
  {
   "cell_type": "code",
   "execution_count": null,
   "metadata": {},
   "outputs": [],
   "source": [
    "# import helper function\n",
    "from helper_functions import get_dataset_name"
   ]
  },
  {
   "cell_type": "code",
   "execution_count": null,
   "metadata": {},
   "outputs": [],
   "source": [
    "api_table = get_dataset_name(api_links)"
   ]
  },
  {
   "cell_type": "code",
   "execution_count": null,
   "metadata": {},
   "outputs": [],
   "source": [
    "api_table"
   ]
  },
  {
   "cell_type": "code",
   "execution_count": null,
   "metadata": {},
   "outputs": [],
   "source": [
    "from helper_functions import choose_dataset"
   ]
  },
  {
   "cell_type": "code",
   "execution_count": null,
   "metadata": {},
   "outputs": [],
   "source": [
    "results = choose_dataset(api_table, limit = 2000)"
   ]
  },
  {
   "cell_type": "code",
   "execution_count": null,
   "metadata": {},
   "outputs": [],
   "source": [
    "# display the first five rows\n",
    "results.head()\n",
    "\n",
    "# If you would to see the entire data set \n",
    "# uncomment this section result below\n",
    "\n",
    "# results "
   ]
  },
  {
   "cell_type": "markdown",
   "metadata": {},
   "source": [
    "---"
   ]
  },
  {
   "cell_type": "markdown",
   "metadata": {},
   "source": [
    "### Transformation & Load Process"
   ]
  },
  {
   "cell_type": "code",
   "execution_count": null,
   "metadata": {},
   "outputs": [],
   "source": [
    "from helper_functions import convert_to_csv"
   ]
  },
  {
   "cell_type": "code",
   "execution_count": null,
   "metadata": {
    "tags": []
   },
   "outputs": [],
   "source": [
    "# Convert results to csv file \n",
    "convert_to_csv(results)"
   ]
  },
  {
   "cell_type": "markdown",
   "metadata": {},
   "source": [
    "----"
   ]
  },
  {
   "cell_type": "markdown",
   "metadata": {},
   "source": [
    "### Now go have some fun slicing and dicing!"
   ]
  }
 ],
 "metadata": {
  "kernelspec": {
   "display_name": "Python 3 (ipykernel)",
   "language": "python",
   "name": "python3"
  },
  "language_info": {
   "codemirror_mode": {
    "name": "ipython",
    "version": 3
   },
   "file_extension": ".py",
   "mimetype": "text/x-python",
   "name": "python",
   "nbconvert_exporter": "python",
   "pygments_lexer": "ipython3",
   "version": "3.9.1"
  }
 },
 "nbformat": 4,
 "nbformat_minor": 4
}
